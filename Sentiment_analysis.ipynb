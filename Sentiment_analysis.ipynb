{
  "nbformat": 4,
  "nbformat_minor": 0,
  "metadata": {
    "colab": {
      "provenance": []
    },
    "kernelspec": {
      "name": "python3",
      "display_name": "Python 3"
    },
    "language_info": {
      "name": "python"
    }
  },
  "cells": [
    {
      "cell_type": "code",
      "execution_count": null,
      "metadata": {
        "id": "NWnYqfj1kzz0"
      },
      "outputs": [],
      "source": [
        "from textblob import TextBlob"
      ]
    },
    {
      "cell_type": "code",
      "source": [
        "import nltk"
      ],
      "metadata": {
        "id": "Qg4ndGuZr9ng"
      },
      "execution_count": null,
      "outputs": []
    },
    {
      "cell_type": "code",
      "source": [
        "nltk.download('punkt')"
      ],
      "metadata": {
        "colab": {
          "base_uri": "https://localhost:8080/"
        },
        "id": "YOVaCWDhsCF0",
        "outputId": "da93d45b-66b9-4594-dc75-bc0a2f9e4894"
      },
      "execution_count": null,
      "outputs": [
        {
          "output_type": "stream",
          "name": "stderr",
          "text": [
            "[nltk_data] Downloading package punkt to /root/nltk_data...\n",
            "[nltk_data]   Unzipping tokenizers/punkt.zip.\n"
          ]
        },
        {
          "output_type": "execute_result",
          "data": {
            "text/plain": [
              "True"
            ]
          },
          "metadata": {},
          "execution_count": 3
        }
      ]
    },
    {
      "cell_type": "code",
      "source": [
        "nltk.download('movie_reviews')"
      ],
      "metadata": {
        "colab": {
          "base_uri": "https://localhost:8080/"
        },
        "id": "UKNU3TN6sMba",
        "outputId": "0fecb721-90a8-4797-9b8b-7588b4edd995"
      },
      "execution_count": null,
      "outputs": [
        {
          "output_type": "stream",
          "name": "stderr",
          "text": [
            "[nltk_data] Downloading package movie_reviews to /root/nltk_data...\n",
            "[nltk_data]   Unzipping corpora/movie_reviews.zip.\n"
          ]
        },
        {
          "output_type": "execute_result",
          "data": {
            "text/plain": [
              "True"
            ]
          },
          "metadata": {},
          "execution_count": 4
        }
      ]
    },
    {
      "cell_type": "code",
      "source": [
        "from textblob.sentiments import NaiveBayesAnalyzer, PatternAnalyzer"
      ],
      "metadata": {
        "id": "x0rzuBqWsTdS"
      },
      "execution_count": null,
      "outputs": []
    },
    {
      "cell_type": "code",
      "source": [
        "text=\"gorr was not right .\"\n"
      ],
      "metadata": {
        "id": "-z-OmNEvsqs5"
      },
      "execution_count": null,
      "outputs": []
    },
    {
      "cell_type": "code",
      "source": [
        "blob=TextBlob(text)"
      ],
      "metadata": {
        "id": "fnGHHH4Ns2xq"
      },
      "execution_count": null,
      "outputs": []
    },
    {
      "cell_type": "code",
      "source": [
        "print(blob.sentiment)"
      ],
      "metadata": {
        "colab": {
          "base_uri": "https://localhost:8080/"
        },
        "id": "Jw5Pd1s0tQ4t",
        "outputId": "ac6a1e80-55bc-45dc-d0d4-b0272c05053d"
      },
      "execution_count": null,
      "outputs": [
        {
          "output_type": "stream",
          "name": "stdout",
          "text": [
            "Sentiment(polarity=-0.14285714285714285, subjectivity=0.5357142857142857)\n"
          ]
        }
      ]
    },
    {
      "cell_type": "code",
      "source": [
        "text1='salem trial was not so brutal'"
      ],
      "metadata": {
        "id": "UUvdsPKrtlRV"
      },
      "execution_count": null,
      "outputs": []
    },
    {
      "cell_type": "code",
      "source": [
        "blob=TextBlob(text1)"
      ],
      "metadata": {
        "id": "4ANbfcgqvIp3"
      },
      "execution_count": null,
      "outputs": []
    },
    {
      "cell_type": "code",
      "source": [
        "print(blob.sentiment)"
      ],
      "metadata": {
        "colab": {
          "base_uri": "https://localhost:8080/"
        },
        "id": "jOv-E7r3vNEh",
        "outputId": "37d58972-5d02-41f7-e2b7-dd4bcef995b6"
      },
      "execution_count": null,
      "outputs": [
        {
          "output_type": "stream",
          "name": "stdout",
          "text": [
            "Sentiment(polarity=-0.875, subjectivity=1.0)\n"
          ]
        }
      ]
    },
    {
      "cell_type": "code",
      "source": [
        "blob1=TextBlob(text1,analyzer=NaiveBayesAnalyzer())"
      ],
      "metadata": {
        "id": "FlLvlxZjvRMf"
      },
      "execution_count": null,
      "outputs": []
    },
    {
      "cell_type": "code",
      "source": [
        "print(blob1.sentiment)"
      ],
      "metadata": {
        "colab": {
          "base_uri": "https://localhost:8080/"
        },
        "id": "zGkoa0j4vvON",
        "outputId": "d574e2dc-2f17-43ae-f265-dee64f007266"
      },
      "execution_count": null,
      "outputs": [
        {
          "output_type": "stream",
          "name": "stdout",
          "text": [
            "Sentiment(classification='pos', p_pos=0.6151046142920047, p_neg=0.3848953857079944)\n"
          ]
        }
      ]
    },
    {
      "cell_type": "code",
      "source": [
        "text = \"\"\"These tasks include learning, reasoning, problem-solving, perception, and\n",
        "understanding natural language. As AI continues to evolve, it holds the potential to\n",
        "revolutionize industries, improve efficiency, and transform everyday life. AI can be found\n",
        "in various applications, from personal assistants like Siri and Alexa to more complex\n",
        "systems like self-driving cars and advanced robotics. Artificial Intelligence (AI) is a field\n",
        "of computer science that focuses on creating systems capable of performing tasks that\n",
        "typically require human intelligence.\"\"\"\n",
        "\n",
        "# Calculate the length of the text\n",
        "text_length = len(text)\n",
        "\n",
        "# Print the result\n",
        "print(\"The length of the text is:\", text_length)  # Output: The length of the text is: 509\n"
      ],
      "metadata": {
        "colab": {
          "base_uri": "https://localhost:8080/"
        },
        "id": "QxRFniqSv11t",
        "outputId": "08a67e14-a956-4e19-f826-ebe71b54dd7c"
      },
      "execution_count": null,
      "outputs": [
        {
          "output_type": "stream",
          "name": "stdout",
          "text": [
            "The length of the text is: 553\n"
          ]
        }
      ]
    },
    {
      "cell_type": "code",
      "source": [
        "text ='These tasks include learning, reasoning, problem-solving, perception, and understanding natural language. As AI continues to evolve, it holds the potential to revolutionize industries, improve efficiency, and transform everyday life. AI can be found in various applications, from personal assistants like Siri and Alexa to more complex systems like self-driving cars and advanced robotics. Artificial Intelligence (AI) is a field of computer science that focuses on creating systems capable of performing tasks that typically require human intelligence.'\n",
        "\n",
        "word_count = len(text.split())\n",
        "word_count\n"
      ],
      "metadata": {
        "colab": {
          "base_uri": "https://localhost:8080/"
        },
        "id": "BevOrVNyHJU4",
        "outputId": "9f657b6b-0c7d-4073-e3a4-54bff2261883"
      },
      "execution_count": null,
      "outputs": [
        {
          "output_type": "execute_result",
          "data": {
            "text/plain": [
              "76"
            ]
          },
          "metadata": {},
          "execution_count": 51
        }
      ]
    },
    {
      "cell_type": "code",
      "source": [
        "text2='''Artificial Intelligence (AI) is a field of computer science that focuses on\n",
        "creating systems capable of performing tasks that typically require human intelligence.\n",
        "These tasks include learning, reasoning, problem-solving, perception, and\n",
        "understanding natural language. AI can be found in various applications, from personal\n",
        "assistants like Siri and Alexa to more complex systems like self-driving cars and\n",
        "advanced robotics. It leverages techniques such as machine learning, neural networks,\n",
        "and deep learning to enable computers to process large amounts of data, recognize\n",
        "patterns, and make decisions or predictions with increasing accuracy. As AI continues\n",
        "to evolve, it holds the potential to revolutionize industries, improve efficiency, and\n",
        "transform everyday life.'''\n",
        "word_count = len(text2.split())\n",
        "word_count"
      ],
      "metadata": {
        "colab": {
          "base_uri": "https://localhost:8080/"
        },
        "id": "pN_7EZj2IEWk",
        "outputId": "fdcbd59d-c0d4-4813-d82f-c6aea1b9c99c"
      },
      "execution_count": null,
      "outputs": [
        {
          "output_type": "execute_result",
          "data": {
            "text/plain": [
              "107"
            ]
          },
          "metadata": {},
          "execution_count": 54
        }
      ]
    },
    {
      "cell_type": "code",
      "source": [
        "from textblob import TextBlob\n",
        "import nltk\n",
        "nltk.download('punkt')\n",
        "nltk.download('movie_reviews')"
      ],
      "metadata": {
        "colab": {
          "base_uri": "https://localhost:8080/"
        },
        "id": "d9ADeAuaoWCn",
        "outputId": "ca5e1a1b-1489-4f3e-cb84-1b35d630ae70"
      },
      "execution_count": null,
      "outputs": [
        {
          "output_type": "stream",
          "name": "stderr",
          "text": [
            "[nltk_data] Downloading package punkt to /root/nltk_data...\n",
            "[nltk_data]   Package punkt is already up-to-date!\n",
            "[nltk_data] Downloading package movie_reviews to /root/nltk_data...\n",
            "[nltk_data]   Unzipping corpora/movie_reviews.zip.\n"
          ]
        },
        {
          "output_type": "execute_result",
          "data": {
            "text/plain": [
              "True"
            ]
          },
          "metadata": {},
          "execution_count": 10
        }
      ]
    },
    {
      "cell_type": "code",
      "source": [
        "pos=[]\n",
        "neg=[]\n",
        "text='weather of delhi is very beautigul and bright but sometimes it is bad'\n",
        "blob=TextBlob(text)\n",
        "print(blob.sentiment)"
      ],
      "metadata": {
        "id": "ZRoB9TUtMaz1",
        "colab": {
          "base_uri": "https://localhost:8080/"
        },
        "outputId": "23dc46d7-b066-47a3-c780-58d871267fdc"
      },
      "execution_count": null,
      "outputs": [
        {
          "output_type": "stream",
          "name": "stdout",
          "text": [
            "Sentiment(polarity=0.06666666666666676, subjectivity=0.5888888888888889)\n"
          ]
        }
      ]
    },
    {
      "cell_type": "code",
      "source": [
        "words=blob.words"
      ],
      "metadata": {
        "id": "tdBxWFvzoQsK"
      },
      "execution_count": null,
      "outputs": []
    },
    {
      "cell_type": "code",
      "source": [
        "for word in words:\n",
        "  word_blob=TextBlob(word)\n",
        "\n",
        "  if word_blob.sentiment.polarity>0:\n",
        "    pos.append(word)\n",
        "  elif word_blob.sentiment.polarity<0:\n",
        "    neg.append(word)"
      ],
      "metadata": {
        "id": "z_ZdEaCxoSpU"
      },
      "execution_count": null,
      "outputs": []
    },
    {
      "cell_type": "code",
      "source": [
        "pos"
      ],
      "metadata": {
        "colab": {
          "base_uri": "https://localhost:8080/"
        },
        "id": "EVUw-G8boj-b",
        "outputId": "93074aac-592e-4ed4-c1b3-1ededb51c2fa"
      },
      "execution_count": null,
      "outputs": [
        {
          "output_type": "execute_result",
          "data": {
            "text/plain": [
              "['very', 'bright']"
            ]
          },
          "metadata": {},
          "execution_count": 14
        }
      ]
    },
    {
      "cell_type": "code",
      "source": [
        "neg"
      ],
      "metadata": {
        "id": "XwEqaJI-osNZ",
        "outputId": "e7dd8fed-26e8-4efb-e411-48bfc258d09d",
        "colab": {
          "base_uri": "https://localhost:8080/"
        }
      },
      "execution_count": null,
      "outputs": [
        {
          "output_type": "execute_result",
          "data": {
            "text/plain": [
              "['bad']"
            ]
          },
          "metadata": {},
          "execution_count": 15
        }
      ]
    },
    {
      "cell_type": "code",
      "source": [],
      "metadata": {
        "id": "d_glqPYHoslo"
      },
      "execution_count": null,
      "outputs": []
    }
  ]
}